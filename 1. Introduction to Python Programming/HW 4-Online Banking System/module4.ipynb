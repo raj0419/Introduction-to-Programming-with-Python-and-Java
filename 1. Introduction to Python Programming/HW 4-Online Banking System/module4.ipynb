{
 "cells": [
  {
   "cell_type": "markdown",
   "metadata": {
    "deletable": false,
    "editable": false,
    "nbgrader": {
     "cell_type": "markdown",
     "checksum": "20f7736eaec45ab8e9353c4ce6f1019d",
     "grade": false,
     "grade_id": "cell-37b1bbf6f43609e8",
     "locked": true,
     "schema_version": 3,
     "solution": false,
     "task": false
    }
   },
   "source": [
    "## Module 4\n",
    "\n",
    "In this assignment, you will implement an online banking system.  Users can sign-up with the system, log in to the\n",
    "system, change their password, and delete their account.  They can also update their bank account balance and transfer\n",
    "money to another user’s bank account.\n",
    "\n",
    "You’ll implement functions related to File I/O and dictionaries.  Two of the functions require you to import files\n",
    "and create dictionaries.  User information will be imported from the “users.txt” file and account information will be\n",
    "imported from the “bank.txt” file.  Take a look at the content in the different files.  The remaining functions require\n",
    "you to use or modify the two dictionaries created from the files.\n",
    "\n",
    "Each function has been defined for you, but without the code. See the docstring in each function for instructions on\n",
    "what the function is supposed to do and how to write the code. It should be clear enough.  In some cases, we have\n",
    "provided hints to help you get started.\n"
   ]
  },
  {
   "cell_type": "code",
   "execution_count": 1,
   "metadata": {
    "deletable": false,
    "editable": false,
    "nbgrader": {
     "cell_type": "code",
     "checksum": "186aa7074d8e654342e952471a9709f0",
     "grade": true,
     "grade_id": "init_test",
     "locked": true,
     "points": 0,
     "schema_version": 3,
     "solution": false,
     "task": false
    }
   },
   "outputs": [],
   "source": [
    "###########################################################\n",
    "### EXECUTE THIS CELL BEFORE YOU TO TEST YOUR SOLUTIONS ###\n",
    "###########################################################\n",
    "\n",
    "import nose.tools as tools"
   ]
  },
  {
   "cell_type": "code",
   "execution_count": 4,
   "metadata": {
    "deletable": false,
    "name": "multiply",
    "nbgrader": {
     "cell_type": "code",
     "checksum": "f029ed9c0fbc3ea36845d51e26fd8e88",
     "grade": false,
     "grade_id": "import_and_create_bank",
     "locked": false,
     "schema_version": 3,
     "solution": true,
     "task": false
    }
   },
   "outputs": [],
   "source": [
    "def import_and_create_bank(filename):\n",
    "    # create an empty bank dictionary\n",
    "    bank = {}\n",
    "    # read the file\n",
    "    f = open(filename, \"r\")\n",
    "    # since every line represents one user, apply readlines() to create a list\n",
    "    lines = f.readlines()\n",
    "    # iterate over all the lines\n",
    "    for line in lines:\n",
    "        # strip white spaces and split line into list based on \":\"\n",
    "        lst = line.strip().split(\":\")\n",
    "        # skip the line with only key or value\n",
    "        if len(lst) <= 1:\n",
    "            continue\n",
    "        # assign name to key and deposit to value\n",
    "        key = lst[0].strip()\n",
    "        value = lst[1].strip()\n",
    "        # skip if the deposit is not number\n",
    "        try:\n",
    "            value = float(value)\n",
    "            bank[key] = bank.get(key, 0) + value\n",
    "        except:\n",
    "            continue\n",
    "    # print(bank)\n",
    "    # close the file\n",
    "    f.close()\n",
    "    return bank"
   ]
  },
  {
   "cell_type": "code",
   "execution_count": 10,
   "metadata": {
    "deletable": false,
    "editable": false,
    "nbgrader": {
     "cell_type": "code",
     "checksum": "4da7d5483eaa2041e0558f1f2e5cf470",
     "grade": true,
     "grade_id": "test_import_and_create_bank",
     "locked": true,
     "points": 1,
     "schema_version": 3,
     "solution": false,
     "task": false
    }
   },
   "outputs": [
    {
     "name": "stdout",
     "output_type": "stream",
     "text": [
      "Success!\n"
     ]
    }
   ],
   "source": [
    "##########################\n",
    "### TEST YOUR SOLUTION ###\n",
    "##########################\n",
    "bank = import_and_create_bank(\"bank.txt\")\n",
    "\n",
    "tools.assert_false(len(bank) == 0)\n",
    "tools.assert_almost_equal(115.5, bank.get(\"Brandon\"))\n",
    "tools.assert_almost_equal(128.87, bank.get(\"James\"))\n",
    "tools.assert_is_none(bank.get(\"Joel\"))\n",
    "tools.assert_is_none(bank.get(\"Luke\"))\n",
    "tools.assert_almost_equal(bank.get(\"Sarah\"), 827.43)\n",
    "print(\"Success!\")"
   ]
  },
  {
   "cell_type": "code",
   "execution_count": 11,
   "metadata": {
    "deletable": false,
    "nbgrader": {
     "cell_type": "code",
     "checksum": "ce5052b10d6bdf521abc334e1cf569e5",
     "grade": false,
     "grade_id": "signup",
     "locked": false,
     "schema_version": 3,
     "solution": true,
     "task": false
    }
   },
   "outputs": [],
   "source": [
    "def check_upper(password):\n",
    "    for char in password:\n",
    "        if char.isupper():\n",
    "            return True\n",
    "    return False\n",
    "\n",
    "def check_lower(password):\n",
    "    for char in password:\n",
    "        if char.islower():\n",
    "            return True\n",
    "    return False\n",
    "\n",
    "def check_number(password):\n",
    "    for char in password:\n",
    "        if char.isdigit():\n",
    "            return True\n",
    "    return False\n",
    "\n",
    "def validation(user_accounts, username, password):\n",
    "    \"\"\"test whether the username and the password are both valid.\n",
    "    User_accounts is a dictionary contains all user names\"\"\"\n",
    "    if (username not in user_accounts) and len(password) >= 8 and check_upper(password) and check_lower(password) and check_number(password) and username != password:\n",
    "        return True\n",
    "    else:\n",
    "        return False\n",
    "\n",
    "\n",
    "def signup(user_accounts, log_in, username, password):\n",
    "\n",
    "    if validation(user_accounts, username, password):\n",
    "        user_accounts[username] = password\n",
    "        log_in[username] = False\n",
    "        return True\n",
    "    else:\n",
    "        return False\n"
   ]
  },
  {
   "cell_type": "code",
   "execution_count": 12,
   "metadata": {
    "deletable": false,
    "nbgrader": {
     "cell_type": "code",
     "checksum": "0aa55493d004c92765e94ac195617d97",
     "grade": false,
     "grade_id": "import_and_create_accounts",
     "locked": false,
     "schema_version": 3,
     "solution": true,
     "task": false
    }
   },
   "outputs": [],
   "source": [
    "def import_and_create_accounts(filename):\n",
    "    # Create an empty user accounts dictionary and an empty login dictionary\n",
    "    user_accounts = {}\n",
    "    log_in = {}\n",
    "    # read the file\n",
    "    f = open(filename, \"r\")\n",
    "    # since every line represents one user, apply readlines() to create a list\n",
    "    lines = f.readlines()\n",
    "    # iterate over all the lines\n",
    "    for line in lines:\n",
    "        # strip white spaces and split line into list based on \":\"\n",
    "        lst = line.strip().split(\"-\")\n",
    "        # skip the line with only key or value\n",
    "        if len(lst) <= 1:\n",
    "            continue\n",
    "        # assign name to key and deposit to value\n",
    "        key = lst[0].strip()\n",
    "        value = lst[1].strip()\n",
    "        if validation(user_accounts, key, value):\n",
    "            user_accounts[key] = value\n",
    "            log_in[key] = False\n",
    "        else:\n",
    "            continue\n",
    "    f.close()\n",
    "    #print(user_accounts)\n",
    "    #print(log_in)\n",
    "    return user_accounts, log_in\n"
   ]
  },
  {
   "cell_type": "code",
   "execution_count": 13,
   "metadata": {
    "deletable": false,
    "editable": false,
    "nbgrader": {
     "cell_type": "code",
     "checksum": "a6fdf4943ba648c896862c0fb3921300",
     "grade": true,
     "grade_id": "test_import_and_create_accounts",
     "locked": true,
     "points": 1,
     "schema_version": 3,
     "solution": false,
     "task": false
    }
   },
   "outputs": [
    {
     "name": "stdout",
     "output_type": "stream",
     "text": [
      "Success!\n"
     ]
    }
   ],
   "source": [
    "##########################\n",
    "### TEST YOUR SOLUTION ###\n",
    "##########################\n",
    "user_accounts, log_in = import_and_create_accounts(\"user.txt\")\n",
    "\n",
    "tools.assert_false(len(user_accounts) == 0)\n",
    "tools.assert_false(len(log_in) == 0)\n",
    "tools.assert_equal(user_accounts.get(\"Brandon\"),\"brandon123ABC\")\n",
    "tools.assert_equal(user_accounts.get(\"Jack\"),\"jack123POU\")\n",
    "tools.assert_is_none(user_accounts.get(\"Jennie\"))\n",
    "tools.assert_false(log_in[\"Sarah\"])\n",
    "print(\"Success!\")"
   ]
  },
  {
   "cell_type": "code",
   "execution_count": 14,
   "metadata": {
    "deletable": false,
    "editable": false,
    "nbgrader": {
     "cell_type": "code",
     "checksum": "88a49592b1740b1738da5ed2d4b246c0",
     "grade": true,
     "grade_id": "test_signup",
     "locked": true,
     "points": 1,
     "schema_version": 3,
     "solution": false,
     "task": false
    }
   },
   "outputs": [
    {
     "name": "stdout",
     "output_type": "stream",
     "text": [
      "Success!\n"
     ]
    }
   ],
   "source": [
    "##########################\n",
    "### TEST YOUR SOLUTION ###\n",
    "##########################\n",
    "bank = import_and_create_bank(\"bank.txt\")\n",
    "user_accounts, log_in = import_and_create_accounts(\"user.txt\")\n",
    "\n",
    "tools.assert_false(signup(user_accounts,log_in,\"Brandon\",\"123abcABCD\"))\n",
    "\n",
    "tools.assert_false(signup(user_accounts,log_in,\"BrandonK\",\"123ABCD\"))\n",
    "tools.assert_false(signup(user_accounts,log_in,\"BrandonK\",\"1234ABCD\"))\n",
    "tools.assert_false(signup(user_accounts,log_in,\"BrandonK\",\"abcdABCD\"))\n",
    "tools.assert_false(signup(user_accounts,log_in,\"BrandonK\",\"1234abcd\"))\n",
    "\n",
    "tools.assert_false(signup(user_accounts,log_in,\"123abcABCD\",\"123abcABCD\"))\n",
    "\n",
    "tools.assert_true(signup(user_accounts,log_in,\"BrandonK\",\"123aABCD\"))\n",
    "tools.assert_false(signup(user_accounts,log_in,\"BrandonK\",\"123aABCD\"))\n",
    "tools.assert_true(\"BrandonK\" in user_accounts)\n",
    "tools.assert_equal(\"123aABCD\",user_accounts[\"BrandonK\"])\n",
    "tools.assert_false(log_in[\"BrandonK\"])\n",
    "print(\"Success!\")"
   ]
  },
  {
   "cell_type": "code",
   "execution_count": 15,
   "metadata": {
    "deletable": false,
    "nbgrader": {
     "cell_type": "code",
     "checksum": "a9ff3f6131bb333df74cff7be0b1a231",
     "grade": false,
     "grade_id": "login",
     "locked": false,
     "schema_version": 3,
     "solution": true,
     "task": false
    }
   },
   "outputs": [],
   "source": [
    "def login(user_accounts, log_in, username, password):\n",
    "    if (username not in user_accounts) or (password != user_accounts[username]):\n",
    "        return False\n",
    "    else:\n",
    "        log_in[username] = True\n",
    "        return True"
   ]
  },
  {
   "cell_type": "code",
   "execution_count": 16,
   "metadata": {
    "deletable": false,
    "editable": false,
    "nbgrader": {
     "cell_type": "code",
     "checksum": "08ad030b14a87955cb7ef4464d5378b8",
     "grade": true,
     "grade_id": "test_login",
     "locked": true,
     "points": 1,
     "schema_version": 3,
     "solution": false,
     "task": false
    }
   },
   "outputs": [
    {
     "name": "stdout",
     "output_type": "stream",
     "text": [
      "Success!\n"
     ]
    }
   ],
   "source": [
    "##########################\n",
    "### TEST YOUR SOLUTION ###\n",
    "##########################\n",
    "bank = import_and_create_bank(\"bank.txt\")\n",
    "user_accounts, log_in = import_and_create_accounts(\"user.txt\")\n",
    "\n",
    "tools.assert_false(login(user_accounts, log_in,\"Brandon\",\"123abcAB\"))\n",
    "tools.assert_true(login(user_accounts, log_in,\"Brandon\",\"brandon123ABC\"))\n",
    "tools.assert_false(login(user_accounts, log_in,\"BrandonK\",\"123abcABC\"))\n",
    "print(\"Success!\")"
   ]
  },
  {
   "cell_type": "code",
   "execution_count": 17,
   "metadata": {
    "deletable": false,
    "nbgrader": {
     "cell_type": "code",
     "checksum": "2b23ab31850b9c56ee57ff400671349e",
     "grade": false,
     "grade_id": "update",
     "locked": false,
     "schema_version": 3,
     "solution": true,
     "task": false
    }
   },
   "outputs": [],
   "source": [
    "def update(bank, log_in, username, amount):\n",
    "    if log_in[username] != True:\n",
    "        return False\n",
    "\n",
    "    if username not in bank:\n",
    "        bank[username] = 0\n",
    "\n",
    "    if amount + bank[username] < 0:\n",
    "        return False\n",
    "    else:\n",
    "        bank[username] += amount\n",
    "        return True"
   ]
  },
  {
   "cell_type": "code",
   "execution_count": 18,
   "metadata": {
    "deletable": false,
    "editable": false,
    "nbgrader": {
     "cell_type": "code",
     "checksum": "558b3412753ee81821b40d41fadaba77",
     "grade": true,
     "grade_id": "test_update",
     "locked": true,
     "points": 1,
     "schema_version": 3,
     "solution": false,
     "task": false
    }
   },
   "outputs": [
    {
     "name": "stdout",
     "output_type": "stream",
     "text": [
      "Success!\n"
     ]
    }
   ],
   "source": [
    "##########################\n",
    "### TEST YOUR SOLUTION ###\n",
    "##########################\n",
    "bank = import_and_create_bank(\"bank.txt\")\n",
    "user_accounts, log_in = import_and_create_accounts(\"user.txt\")\n",
    "\n",
    "tools.assert_false(update(bank,log_in,\"Jack\",100))\n",
    "login(user_accounts, log_in, \"Brandon\", \"brandon123ABC\")\n",
    "tools.assert_false(update(bank,log_in,\"Brandon\",-400))\n",
    "tools.assert_true(update(bank,log_in,\"Brandon\",100))\n",
    "tools.assert_almost_equal(bank.get(\"Brandon\"),215.5)\n",
    "\n",
    "signup(user_accounts, log_in, \"BrandonK\", \"123aABCD\")\n",
    "tools.assert_is_none(bank.get(\"BrandonK\"))\n",
    "login(user_accounts,log_in,\"BrandonK\",\"123aABCD\")\n",
    "tools.assert_true(update(bank,log_in,\"BrandonK\",100))\n",
    "tools.assert_almost_equal(bank.get(\"BrandonK\"),100)\n",
    "print(\"Success!\")"
   ]
  },
  {
   "cell_type": "code",
   "execution_count": 19,
   "metadata": {
    "deletable": false,
    "nbgrader": {
     "cell_type": "code",
     "checksum": "57726d76a5c013fb27acbec570e8ee96",
     "grade": false,
     "grade_id": "transfer",
     "locked": false,
     "schema_version": 3,
     "solution": true,
     "task": false
    }
   },
   "outputs": [],
   "source": [
    "def transfer(bank, log_in, userA, userB, amount):\n",
    "    if userA not in bank or log_in[userA] != True:\n",
    "        return False\n",
    "    if userB not in log_in:\n",
    "        return False\n",
    "    if userB not in bank:\n",
    "        bank[userB] = 0\n",
    "    if bank[userA] - amount < 0:\n",
    "        return False\n",
    "    else:\n",
    "        bank[userA] -= amount\n",
    "        bank[userB] += amount\n",
    "        return True\n"
   ]
  },
  {
   "cell_type": "code",
   "execution_count": 20,
   "metadata": {
    "deletable": false,
    "editable": false,
    "nbgrader": {
     "cell_type": "code",
     "checksum": "674f7b16f5b5f798174efb621a4c2f5e",
     "grade": true,
     "grade_id": "test_transfer",
     "locked": true,
     "points": 1,
     "schema_version": 3,
     "solution": false,
     "task": false
    }
   },
   "outputs": [
    {
     "name": "stdout",
     "output_type": "stream",
     "text": [
      "Success!\n"
     ]
    }
   ],
   "source": [
    "##########################\n",
    "### TEST YOUR SOLUTION ###\n",
    "##########################\n",
    "bank = import_and_create_bank(\"bank.txt\")\n",
    "user_accounts, log_in = import_and_create_accounts(\"user.txt\")\n",
    "\n",
    "tools.assert_false(transfer(bank,log_in,\"BrandonK\",\"Jack\",100))\n",
    "tools.assert_false(transfer(bank,log_in,\"Brandon\",\"JackC\",100))\n",
    "tools.assert_false(transfer(bank,log_in,\"Brandon\",\"Jack\",100))\n",
    "\n",
    "login(user_accounts,log_in,\"Brandon\",\"brandon123ABC\")\n",
    "tools.assert_false(transfer(bank,log_in,\"Brandon\",\"Jack\",200))\n",
    "tools.assert_true(transfer(bank,log_in,\"Brandon\",\"Jack\",10))\n",
    "tools.assert_almost_equal(bank.get(\"Brandon\"),105.5)\n",
    "tools.assert_almost_equal(bank.get(\"Jack\"),55)\n",
    "\n",
    "signup(user_accounts,log_in,\"BrandonK\",\"123aABCD\")\n",
    "tools.assert_is_none(bank.get(\"BrandonK\"))\n",
    "login(user_accounts,log_in,\"BrandonK\",\"123aABCD\")\n",
    "tools.assert_true(transfer(bank,log_in,\"Brandon\",\"BrandonK\",10))\n",
    "tools.assert_almost_equal(bank.get(\"Brandon\"),95.5)\n",
    "tools.assert_almost_equal(bank.get(\"BrandonK\"),10)\n",
    "print(\"Success!\")"
   ]
  },
  {
   "cell_type": "code",
   "execution_count": 21,
   "metadata": {
    "deletable": false,
    "nbgrader": {
     "cell_type": "code",
     "checksum": "2d326b6fa7f1e76607e6178171312ee8",
     "grade": false,
     "grade_id": "change_password",
     "locked": false,
     "schema_version": 3,
     "solution": true,
     "task": false
    }
   },
   "outputs": [],
   "source": [
    "def change_password(user_accounts, log_in, username, old_password, new_password):\n",
    "    if username not in user_accounts:\n",
    "        return False\n",
    "    elif log_in[username] != True:\n",
    "        return False\n",
    "    elif user_accounts[username] != old_password:\n",
    "        return False\n",
    "    elif old_password == new_password:\n",
    "        return False\n",
    "    elif len(new_password) >= 8 and check_upper(new_password) and check_lower(new_password) and check_number(new_password) and username != new_password:\n",
    "        user_accounts[username] = new_password\n",
    "        return True"
   ]
  },
  {
   "cell_type": "code",
   "execution_count": 22,
   "metadata": {
    "deletable": false,
    "editable": false,
    "nbgrader": {
     "cell_type": "code",
     "checksum": "5e021f7f1cdda99522feaabcb6460bc0",
     "grade": true,
     "grade_id": "test_change_password",
     "locked": true,
     "points": 1,
     "schema_version": 3,
     "solution": false,
     "task": false
    }
   },
   "outputs": [
    {
     "name": "stdout",
     "output_type": "stream",
     "text": [
      "Success!\n"
     ]
    }
   ],
   "source": [
    "##########################\n",
    "### TEST YOUR SOLUTION ###\n",
    "##########################\n",
    "bank = import_and_create_bank(\"bank.txt\")\n",
    "user_accounts, log_in = import_and_create_accounts(\"user.txt\")\n",
    "\n",
    "tools.assert_false(change_password(user_accounts,log_in,\"BrandonK\",\"123abcABC\",\"123abcABCD\"))\n",
    "tools.assert_false(change_password(user_accounts,log_in,\"Brandon\",\"brandon123ABC\",\"123abcABCD\"))\n",
    "\n",
    "login(user_accounts,log_in,\"Brandon\",\"brandon123ABC\")\n",
    "tools.assert_false(change_password(user_accounts,log_in,\"Brandon\",\"123abcABCD\",\"123abcABCDE\")) \n",
    "\n",
    "tools.assert_false(change_password(user_accounts,log_in,\"Brandon\",\"brandon123ABC\",\"brandon123ABC\"))\n",
    "\n",
    "tools.assert_false(change_password(user_accounts,log_in,\"Brandon\",\"brandon123ABC\",\"123ABCD\"))   \n",
    "\n",
    "tools.assert_true(change_password(user_accounts,log_in,\"Brandon\",\"brandon123ABC\",\"123abcABCD\"))\n",
    "tools.assert_equal(\"123abcABCD\",user_accounts[\"Brandon\"])\n",
    "print(\"Success!\")"
   ]
  },
  {
   "cell_type": "code",
   "execution_count": 23,
   "metadata": {
    "deletable": false,
    "nbgrader": {
     "cell_type": "code",
     "checksum": "fea504f0628fb26052f9849676dcb1ad",
     "grade": false,
     "grade_id": "delete_account",
     "locked": false,
     "schema_version": 3,
     "solution": true,
     "task": false
    }
   },
   "outputs": [],
   "source": [
    "def delete_account(user_accounts, log_in, bank, username, password):\n",
    "    if username not in user_accounts or password != user_accounts[username] or log_in[username] != True:\n",
    "        return False\n",
    "    else:\n",
    "        del user_accounts[username]\n",
    "        del log_in[username]\n",
    "        del bank[username]\n",
    "        return True"
   ]
  },
  {
   "cell_type": "code",
   "execution_count": 24,
   "metadata": {
    "deletable": false,
    "editable": false,
    "nbgrader": {
     "cell_type": "code",
     "checksum": "c0a922d395776919e20646a55f03237d",
     "grade": true,
     "grade_id": "test_delete_account",
     "locked": true,
     "points": 1,
     "schema_version": 3,
     "solution": false,
     "task": false
    }
   },
   "outputs": [
    {
     "name": "stdout",
     "output_type": "stream",
     "text": [
      "Success!\n"
     ]
    }
   ],
   "source": [
    "##########################\n",
    "### TEST YOUR SOLUTION ###\n",
    "##########################\n",
    "\n",
    "bank = import_and_create_bank(\"bank.txt\")\n",
    "user_accounts, log_in = import_and_create_accounts(\"user.txt\")\n",
    "\n",
    "tools.assert_false(delete_account(user_accounts,log_in,bank,\"BrandonK\",\"123abcABC\"))\n",
    "tools.assert_false(delete_account(user_accounts,log_in,bank,\"Brandon\",\"123abcABDC\"))\n",
    "tools.assert_false(delete_account(user_accounts,log_in,bank,\"Brandon\",\"brandon123ABC\"))\n",
    "login(user_accounts,log_in,\"Brandon\",\"brandon123ABC\")\n",
    "\n",
    "tools.assert_true(delete_account(user_accounts,log_in,bank,\"Brandon\",\"brandon123ABC\"))\n",
    "tools.assert_is_none(user_accounts.get(\"Brandon\"))\n",
    "tools.assert_is_none(log_in.get(\"Brandon\"))\n",
    "tools.assert_is_none(bank.get(\"Brandon\"))\n",
    "print(\"Success!\")"
   ]
  },
  {
   "cell_type": "code",
   "execution_count": 25,
   "metadata": {
    "deletable": false,
    "editable": false,
    "nbgrader": {
     "cell_type": "code",
     "checksum": "bf6f98cbd1066f5daa0d993b24b37606",
     "grade": true,
     "grade_id": "main",
     "locked": true,
     "points": 0,
     "schema_version": 3,
     "solution": false,
     "task": false
    }
   },
   "outputs": [
    {
     "name": "stdout",
     "output_type": "stream",
     "text": [
      "bank: {'Brandon': 115.5, 'Patrick': 18.9, 'Sarah': 827.43, 'Jack': 45.0, 'James': 128.87}\n",
      "user_accounts: {'Brandon': 'brandon123ABC', 'Jack': 'jack123POU', 'James': '100jamesABD', 'Sarah': 'sd896ssfJJH'}\n",
      "log_in: {'Brandon': False, 'Jack': False, 'James': False, 'Sarah': False}\n",
      "\n",
      "What do you want to do?  Please enter a numerical option below.\n",
      "1. login\n",
      "2. signup\n",
      "3. change password\n",
      "4. delete account\n",
      "5. update amount\n",
      "6. make a transfer\n",
      "7. exit\n",
      "1\n",
      "Please input the username\n",
      "Brandon\n",
      "Please input the password\n",
      "115.5\n",
      "bank: {'Brandon': 115.5, 'Patrick': 18.9, 'Sarah': 827.43, 'Jack': 45.0, 'James': 128.87}\n",
      "user_accounts: {'Brandon': 'brandon123ABC', 'Jack': 'jack123POU', 'James': '100jamesABD', 'Sarah': 'sd896ssfJJH'}\n",
      "log_in: {'Brandon': False, 'Jack': False, 'James': False, 'Sarah': False}\n",
      "\n",
      "What do you want to do?  Please enter a numerical option below.\n",
      "1. login\n",
      "2. signup\n",
      "3. change password\n",
      "4. delete account\n",
      "5. update amount\n",
      "6. make a transfer\n",
      "7. exit\n",
      "7\n"
     ]
    }
   ],
   "source": [
    "def main():\n",
    "    '''\n",
    "    The main function is a skeleton for you to test if your overall programming is working.\n",
    "    Note we will not test your main function. It is only for you to run and interact with your program.\n",
    "    '''\n",
    "\n",
    "    bank = import_and_create_bank(\"bank.txt\")\n",
    "    user_accounts, log_in = import_and_create_accounts(\"user.txt\")\n",
    "\n",
    "    while True:\n",
    "        # for debugging\n",
    "        print('bank:', bank)\n",
    "        print('user_accounts:', user_accounts)\n",
    "        print('log_in:', log_in)\n",
    "        print('')\n",
    "        #\n",
    "\n",
    "        option = input(\"What do you want to do?  Please enter a numerical option below.\\n\"\n",
    "        \"1. login\\n\"\n",
    "        \"2. signup\\n\"\n",
    "        \"3. change password\\n\"\n",
    "        \"4. delete account\\n\"\n",
    "        \"5. update amount\\n\"\n",
    "        \"6. make a transfer\\n\"\n",
    "        \"7. exit\\n\")\n",
    "        if option == \"1\":\n",
    "            username = input(\"Please input the username\\n\")\n",
    "            password = input(\"Please input the password\\n\")\n",
    "\n",
    "            # add code to login\n",
    "            login(user_accounts, log_in, username, password);\n",
    "        elif option == \"2\":\n",
    "            username = input(\"Please input the username\\n\")\n",
    "            password = input(\"Please input the password\\n\")\n",
    "\n",
    "            # add code to signup\n",
    "            signup(user_accounts, log_in, username, password)\n",
    "        elif option == \"3\":\n",
    "            username = input(\"Please input the username\\n\")\n",
    "            old_password = input(\"Please input the old password\\n\")\n",
    "            new_password = input(\"Please input the new password\\n\")\n",
    "\n",
    "            # add code to change password\n",
    "            change_password(user_accounts, log_in, username, old_password, new_password)\n",
    "        elif option == \"4\":\n",
    "            username = input(\"Please input the username\\n\")\n",
    "            password = input(\"Please input the password\\n\")\n",
    "\n",
    "            # add code to delete account\n",
    "            delete_account(user_accounts, log_in, bank, username, password)\n",
    "        elif option == \"5\":\n",
    "            username = input(\"Please input the username\\n\")\n",
    "            amount = input(\"Please input the amount\\n\")\n",
    "            try:\n",
    "                amount = float(amount)\n",
    "\n",
    "                # add code to update amount\n",
    "                update(bank, log_in, username, amount)\n",
    "            except:\n",
    "                print(\"The amount is invalid. Please reenter the option\\n\")\n",
    "\n",
    "        elif option == \"6\":\n",
    "            userA = input(\"Please input the user who will be deducted\\n\")\n",
    "            userB = input(\"Please input the user who will be added\\n\")\n",
    "            amount = input(\"Please input the amount\\n\")\n",
    "            try:\n",
    "                amount = float(amount)\n",
    "\n",
    "                # add code to transfer amount\n",
    "                transfer(bank, log_in, userA, userB, amount)\n",
    "            except:\n",
    "                print(\"The amount is invalid. Please re-enter the option.\\n\")\n",
    "        elif option == \"7\":\n",
    "            break;\n",
    "        else:\n",
    "            print(\"The option is not valid. Please re-enter the option.\\n\")\n",
    "\n",
    "#This will automatically run the main function in your program\n",
    "#Don't change this\n",
    "if __name__ == '__main__':\n",
    "    main()"
   ]
  },
  {
   "cell_type": "code",
   "execution_count": null,
   "metadata": {},
   "outputs": [],
   "source": []
  }
 ],
 "metadata": {
  "kernelspec": {
   "display_name": "Python 3",
   "language": "python",
   "name": "python3"
  },
  "language_info": {
   "codemirror_mode": {
    "name": "ipython",
    "version": 3
   },
   "file_extension": ".py",
   "mimetype": "text/x-python",
   "name": "python",
   "nbconvert_exporter": "python",
   "pygments_lexer": "ipython3",
   "version": "3.7.6"
  }
 },
 "nbformat": 4,
 "nbformat_minor": 2
}
