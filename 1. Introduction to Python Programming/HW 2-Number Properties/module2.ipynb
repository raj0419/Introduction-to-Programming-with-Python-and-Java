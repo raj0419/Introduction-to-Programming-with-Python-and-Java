{
 "cells": [
  {
   "cell_type": "markdown",
   "metadata": {
    "deletable": false,
    "editable": false,
    "nbgrader": {
     "cell_type": "markdown",
     "checksum": "457aabde68b6016bb326d2ba4b9ec0e8",
     "grade": false,
     "grade_id": "cell-37b1bbf6f43609e8",
     "locked": true,
     "schema_version": 3,
     "solution": false,
     "task": false
    }
   },
   "source": [
    "## Module 2\n",
    "\n",
    "This HW deals primarily with loops and functions.  It will introduce you to some interesting number theory as well.\n",
    "You have probably heard of prime numbers and composite numbers before, but have you ever heard of abundant numbers, or\n",
    "narcissistic numbers?  This assignment will ask you to write code to identify different kinds of number properties.\n",
    "\n",
    "We also want you to learn how to reuse code in this assignment, by writing and using functions.  This is a basic\n",
    "strategy for reducing complexity in a program.  Why?  Because things change, and if you have the same thing in several\n",
    "places, when you change one, you have to change all the others.  And you can’t always find them all!  In order to reuse\n",
    "code, you must take common pieces of code and put them into functions.  Failure to do so will result in loss of points.\n",
    "\n",
    "We also want you to add comments to your code and docstrings to your functions.\n",
    "\n",
    "**You can assume that all inputs in this assignment will be positive integers.**\n",
    "\n",
    "Each function has been defined for you, but without the code. See the docstring in each function (in the starter code)\n",
    "for more details on what the function is supposed to do and how to write the code. It should be clear enough. In some\n",
    "cases, we have provided hints and examples to get you started."
   ]
  },
  {
   "cell_type": "code",
   "execution_count": 1,
   "metadata": {
    "deletable": false,
    "editable": false,
    "nbgrader": {
     "cell_type": "code",
     "checksum": "0434413443ad1306e8af9bb9fdd1c6de",
     "grade": true,
     "grade_id": "init_test",
     "locked": true,
     "points": 0,
     "schema_version": 3,
     "solution": false,
     "task": false
    }
   },
   "outputs": [],
   "source": [
    "###########################################################\n",
    "### EXECUTE THIS CELL BEFORE YOU TO TEST YOUR SOLUTIONS ###\n",
    "###########################################################\n",
    "\n",
    "import unittest\n",
    "from nose.tools import assert_equal, assert_true"
   ]
  },
  {
   "cell_type": "code",
   "execution_count": 26,
   "metadata": {
    "deletable": false,
    "name": "multiply",
    "nbgrader": {
     "cell_type": "code",
     "checksum": "f448e0dd28c5681b2c68908f20a2f348",
     "grade": false,
     "grade_id": "getFactors",
     "locked": false,
     "schema_version": 3,
     "solution": true,
     "task": false
    }
   },
   "outputs": [],
   "source": [
    "def getFactors(x):\n",
    "    \"\"\"Returns a list of factors of the given number x.\n",
    "    Basically, finds the numbers between 1 and the given integer that divide the number evenly.\n",
    "\n",
    "    For example:\n",
    "    - If we call getFactors(2), we'll get [1, 2] in return\n",
    "    - If we call getFactors(12), we'll get [1, 2, 3, 4, 6, 12] in return\n",
    "    \"\"\"\n",
    "    \n",
    "    # your code here\n",
    "    l = []\n",
    "    for i in range (1,(x+1)):\n",
    "        if x % i == 0:\n",
    "            l.append(i)\n",
    "    return(l)\n",
    "    "
   ]
  },
  {
   "cell_type": "code",
   "execution_count": 27,
   "metadata": {
    "deletable": false,
    "editable": false,
    "nbgrader": {
     "cell_type": "code",
     "checksum": "640545ae75c88c85b215f34e2f82a40f",
     "grade": true,
     "grade_id": "test_getFactors",
     "locked": true,
     "points": 1,
     "schema_version": 3,
     "solution": false,
     "task": false
    }
   },
   "outputs": [
    {
     "name": "stdout",
     "output_type": "stream",
     "text": [
      "Success!\n"
     ]
    }
   ],
   "source": [
    "##########################\n",
    "### TEST YOUR SOLUTION ###\n",
    "##########################\n",
    "\n",
    "num = 2\n",
    "factors_test = [1, 2]\n",
    "factors = getFactors(num)\n",
    "assert_equal(factors_test, factors, str(factors) + ' are not the factors of ' + str(num))\n",
    "\n",
    "num = 12\n",
    "factors_test = [1, 2, 3, 4, 6, 12]\n",
    "factors = getFactors(num)\n",
    "assert_equal(factors_test, factors, str(factors) + ' are not the factors of ' + str(num))\n",
    "\n",
    "num = 13\n",
    "factors_test = [1, 13]\n",
    "factors = getFactors(num)\n",
    "assert_equal(factors_test, factors, str(factors) + ' are not the factors of ' + str(num))\n",
    "\n",
    "# test existence of docstring\n",
    "assert_true(len(getFactors.__doc__) > 1, \"there is no docstring for getFactors\")\n",
    "print(\"Success!\")"
   ]
  },
  {
   "cell_type": "code",
   "execution_count": 30,
   "metadata": {
    "deletable": false,
    "nbgrader": {
     "cell_type": "code",
     "checksum": "ef31858ea07ff02a6b061b8a4205b421",
     "grade": false,
     "grade_id": "isPrime",
     "locked": false,
     "schema_version": 3,
     "solution": true,
     "task": false
    }
   },
   "outputs": [],
   "source": [
    "def isPrime(x):\n",
    "    \"\"\"Returns whether or not the given number x is prime.\n",
    "\n",
    "    A prime number is a natural number greater than 1 that cannot be formed\n",
    "    by multiplying two smaller natural numbers.\n",
    "\n",
    "    For example:\n",
    "    - Calling isPrime(11) will return True\n",
    "    - Calling isPrime(71) will return True\n",
    "    - Calling isPrime(12) will return False\n",
    "    - Calling isPrime(76) will return False\n",
    "    \"\"\"\n",
    "    l = []\n",
    "    for i in range (1,(x+1)):\n",
    "        if x % i == 0:\n",
    "            l.append(i)\n",
    "    if len(l)==2:\n",
    "        return True\n",
    "    else:\n",
    "        return False\n",
    "    \n",
    "    # your code here\n",
    "    "
   ]
  },
  {
   "cell_type": "code",
   "execution_count": 31,
   "metadata": {
    "deletable": false,
    "editable": false,
    "nbgrader": {
     "cell_type": "code",
     "checksum": "c562d4bcb2a9b1972e7681871401a337",
     "grade": true,
     "grade_id": "test_isPrime",
     "locked": true,
     "points": 1,
     "schema_version": 3,
     "solution": false,
     "task": false
    }
   },
   "outputs": [
    {
     "name": "stdout",
     "output_type": "stream",
     "text": [
      "Success!\n"
     ]
    }
   ],
   "source": [
    "##########################\n",
    "### TEST YOUR SOLUTION ###\n",
    "##########################\n",
    "\n",
    "prime_numbers = [2, 3, 5, 7, 11, 13, 17, 19, 23,\n",
    "     29, 31, 37, 41, 43, 47, 53, 59,\n",
    "     61, 67, 71, 73, 79, 83, 89, 97,\n",
    "     101, 103, 107, 109, 113, 127,\n",
    "     131, 137, 139, 149, 151, 157,\n",
    "     163, 167, 173, 179, 181]\n",
    "\n",
    "for i in prime_numbers:\n",
    "    assert_true(isPrime(i), str(i) + ' is prime')\n",
    "\n",
    "not_prime_numbers = [1, 8, 12, 18, 20, 27, 28, 30,\n",
    "     42, 44, 45, 50, 52, 63, 66,\n",
    "     68, 70, 75, 76, 78, 92, 98,\n",
    "     99, 102, 138, 148, 150, 156, 158]\n",
    "\n",
    "for i in not_prime_numbers:\n",
    "    assert_true(not(isPrime(i)), str(i) + ' is not prime')\n",
    "\n",
    "#test existence of docstring\n",
    "assert_true(len(isPrime.__doc__) > 1, \"there is no docstring for isPrime\")\n",
    "print(\"Success!\")"
   ]
  },
  {
   "cell_type": "code",
   "execution_count": 34,
   "metadata": {
    "deletable": false,
    "nbgrader": {
     "cell_type": "code",
     "checksum": "061e4bb47729ed3fbe7c95cb75066776",
     "grade": false,
     "grade_id": "isComposite",
     "locked": false,
     "schema_version": 3,
     "solution": true,
     "task": false
    }
   },
   "outputs": [],
   "source": [
    "def isComposite(x):\n",
    "    \"\"\"Returns whether or not the given number x is composite.\n",
    "\n",
    "    A composite number has more than 2 factors.\n",
    "    A natural number greater than 1 that is not prime is called a composite number.\n",
    "    Note, the number 1 is neither prime nor composite.\n",
    "\n",
    "    For example:\n",
    "    - Calling isComposite(9) will return True\n",
    "    - Calling isComposite(22) will return True\n",
    "    - Calling isComposite(3) will return False\n",
    "    - Calling isComposite(41) will return False\n",
    "    \"\"\"\n",
    "    l = []\n",
    "    for i in range (1,(x+1)):\n",
    "        if x % i == 0:\n",
    "            l.append(i)\n",
    "    if len(l)<=2:\n",
    "        return False\n",
    "    else:\n",
    "        return True\n",
    "    \n",
    "    # your code here\n",
    "    "
   ]
  },
  {
   "cell_type": "code",
   "execution_count": 35,
   "metadata": {
    "deletable": false,
    "editable": false,
    "nbgrader": {
     "cell_type": "code",
     "checksum": "6f9f7a9b418101866b7f48755f4afa3b",
     "grade": true,
     "grade_id": "test_isComposite",
     "locked": true,
     "points": 1,
     "schema_version": 3,
     "solution": false,
     "task": false
    }
   },
   "outputs": [
    {
     "name": "stdout",
     "output_type": "stream",
     "text": [
      "Success!\n"
     ]
    }
   ],
   "source": [
    "##########################\n",
    "### TEST YOUR SOLUTION ###\n",
    "##########################\n",
    "\n",
    "composite_numbers = [4, 6, 8, 9, 10, 12, 14, 15, 16,\n",
    "     18, 20, 21, 22, 24, 25, 26, 27,\n",
    "     28, 30, 32, 33, 34, 35, 36,\n",
    "     38, 39, 40, 42, 44, 45, 46, 48,\n",
    "     49, 50, 51, 52, 54, 55, 56, 57,\n",
    "     58, 60, 62, 63, 64, 65, 66, 91, 93]\n",
    "\n",
    "for i in composite_numbers:\n",
    "    assert_true(isComposite(i), str(i) + ' is composite')\n",
    "\n",
    "not_composite_numbers = [1, 2, 3, 5, 7, 11, 13, 17, 19, 23,\n",
    "     29, 31, 37, 41, 43, 47, 53, 59,\n",
    "     61, 67, 71, 73, 79, 83, 89]\n",
    "\n",
    "for i in not_composite_numbers:\n",
    "    assert_true(not(isComposite(i)), str(i) + ' is not composite')\n",
    "\n",
    "#test existence of docstring\n",
    "assert_true(len(isComposite.__doc__) > 1, \"there is no docstring for isComposite\")\n",
    "print(\"Success!\")"
   ]
  },
  {
   "cell_type": "code",
   "execution_count": 48,
   "metadata": {
    "deletable": false,
    "nbgrader": {
     "cell_type": "code",
     "checksum": "c27d5f05992c8a87878911faadda5245",
     "grade": false,
     "grade_id": "isPerfect",
     "locked": false,
     "schema_version": 3,
     "solution": true,
     "task": false
    }
   },
   "outputs": [],
   "source": [
    "def isPerfect(x):\n",
    "    \"\"\"Returns whether or not the given number x is perfect.\n",
    "\n",
    "    A number is said to be perfect if it is equal to the sum of all its\n",
    "    factors (for obvious reasons the list of factors being considered does\n",
    "    not include the number itself).\n",
    "\n",
    "    Example: 6 = 3 + 2 + 1, hence 6 is perfect.\n",
    "    Example: 28 is another example since 1 + 2 + 4 + 7 + 14 is 28.\n",
    "    Note, the number 1 is not a perfect number.\n",
    "    \"\"\"\n",
    "    l = []\n",
    "    sum = 0\n",
    "    for i in range (1,x):\n",
    "        if x % i == 0:\n",
    "            l.append(i)\n",
    "    for i in range (0, len(l)):\n",
    "        sum = sum + l[i]\n",
    "    if sum == x:\n",
    "        return sum\n",
    "        \n",
    "    # your code here\n",
    "    "
   ]
  },
  {
   "cell_type": "code",
   "execution_count": 51,
   "metadata": {
    "deletable": false,
    "editable": false,
    "nbgrader": {
     "cell_type": "code",
     "checksum": "bf639c8c5cf5f6747005025395fe94d6",
     "grade": true,
     "grade_id": "test_isPerfect",
     "locked": true,
     "points": 1,
     "schema_version": 3,
     "solution": false,
     "task": false
    }
   },
   "outputs": [
    {
     "name": "stdout",
     "output_type": "stream",
     "text": [
      "Success!\n"
     ]
    }
   ],
   "source": [
    "perfect_numbers = [6, 28, 496, 8128, 33550336]\n",
    "        \n",
    "for i in perfect_numbers:\n",
    "    assert_true(isPerfect(i), str(i) + ' is perfect')\n",
    "\n",
    "not_perfect_numbers = [2, 3, 4, 5, 7, 8, 9, 10,\n",
    "                       495, 8127, 8129,\n",
    "                       33550335]\n",
    "\n",
    "for i in not_perfect_numbers:\n",
    "    assert_true(not(isPerfect(i)), str(i) + ' is not perfect')\n",
    "\n",
    "#test existence of docstring\n",
    "assert_true(len(isPerfect.__doc__) > 1, \"there is no docstring for isPerfect\")\n",
    "print(\"Success!\")"
   ]
  },
  {
   "cell_type": "code",
   "execution_count": 52,
   "metadata": {
    "deletable": false,
    "nbgrader": {
     "cell_type": "code",
     "checksum": "02821c80db344fbf3b377fd48ac98388",
     "grade": false,
     "grade_id": "isAbundant",
     "locked": false,
     "schema_version": 3,
     "solution": true,
     "task": false
    }
   },
   "outputs": [],
   "source": [
    "def isAbundant(x):\n",
    "    \"\"\"Returns whether or not the given number x is abundant.\n",
    "\n",
    "    A number is considered to be abundant if the sum of its factors\n",
    "    (aside from the number) is greater than the number itself.\n",
    "\n",
    "    Example: 12 is abundant since 1+2+3+4+6 = 16 > 12.\n",
    "    However, a number like 15, where the sum of the factors.\n",
    "    is 1 + 3 + 5 = 9 is not abundant.\n",
    "    \"\"\"\n",
    "    \n",
    "    # your code here\n",
    "    l = []\n",
    "    sum = 0\n",
    "    for i in range (1,x):\n",
    "        if x % i == 0:\n",
    "            l.append(i)\n",
    "    for i in range (0, len(l)):\n",
    "        sum = sum + l[i]\n",
    "    if sum > x:\n",
    "        return True"
   ]
  },
  {
   "cell_type": "code",
   "execution_count": 53,
   "metadata": {
    "deletable": false,
    "editable": false,
    "nbgrader": {
     "cell_type": "code",
     "checksum": "f98aa7aa79925b7d34a226c68c5f2029",
     "grade": true,
     "grade_id": "test_isAbundant",
     "locked": true,
     "points": 1,
     "schema_version": 3,
     "solution": false,
     "task": false
    }
   },
   "outputs": [
    {
     "name": "stdout",
     "output_type": "stream",
     "text": [
      "Success!\n"
     ]
    }
   ],
   "source": [
    "abundant_numbers = [12, 18, 20, 24, 30, 36, 40, 42, 48,\n",
    "    54, 56, 60, 66, 70, 72, 78, 80, 84,\n",
    "    88, 90, 96, 100, 102, 104, 108, 112,\n",
    "    114, 120]\n",
    "\n",
    "for i in abundant_numbers:\n",
    "    assert_true(isAbundant(i), str(i) + ' is abundant')\n",
    "\n",
    "not_abundant_numbers = [1, 2, 3, 4, 5, 6,\n",
    "    7, 8, 9, 10, 11, 13,\n",
    "    14, 15, 16, 17, 19,\n",
    "    21, 22, 23, 25, 26, 27, 28, 29,\n",
    "    91, 92, 93, 94, 95, 119]\n",
    "\n",
    "for i in not_abundant_numbers:\n",
    "    assert_true(not(isAbundant(i)), str(i) + ' is not abundant')\n",
    "\n",
    "#test existence of docstring\n",
    "assert_true(len(isAbundant.__doc__) > 1, \"there is no docstring for isAbundant\")\n",
    "print(\"Success!\")"
   ]
  },
  {
   "cell_type": "code",
   "execution_count": 64,
   "metadata": {
    "deletable": false,
    "nbgrader": {
     "cell_type": "code",
     "checksum": "04c1b43a7918431680f744821d214df3",
     "grade": false,
     "grade_id": "isTriangular",
     "locked": false,
     "schema_version": 3,
     "solution": true,
     "task": false
    }
   },
   "outputs": [],
   "source": [
    "def isTriangular(x):\n",
    "    \"\"\"Returns whether or not a given number x is triangular.\n",
    "    \n",
    "    The triangular number Tn is a number that can be represented in the form of a triangular \n",
    "    grid of points where the first row contains a single element and each subsequent row contains \n",
    "    one more element than the previous one.\n",
    "    \n",
    "    We can just use the fact that the nth triangular number can be found by using a formula: Tn = n(n + 1) / 2.\n",
    "    \n",
    "    Example: 3 is triangular since 3 = 2(3) / 2\n",
    "    3 --> 2nd position: (2 * 3 / 2)\n",
    "    \n",
    "    Example: 15 is triangular since 15 = 5(6) / 2\n",
    "    15 --> 5th position: (5 * 6 / 2)\n",
    "    \"\"\"\n",
    "    \n",
    "    # your code here\n",
    "    l = []\n",
    "    for i in range(1, 10000):\n",
    "        temp = ((i*(i+1))/2)\n",
    "        l.append(temp)\n",
    "    if (x in l):\n",
    "        return True\n",
    "    "
   ]
  },
  {
   "cell_type": "code",
   "execution_count": 65,
   "metadata": {
    "deletable": false,
    "editable": false,
    "nbgrader": {
     "cell_type": "code",
     "checksum": "012ec3d57255c4c5b5f0088b79e9307f",
     "grade": true,
     "grade_id": "test_isTriangular",
     "locked": true,
     "points": 1,
     "schema_version": 3,
     "solution": false,
     "task": false
    }
   },
   "outputs": [
    {
     "name": "stdout",
     "output_type": "stream",
     "text": [
      "Success!\n"
     ]
    }
   ],
   "source": [
    "triangular_numbers = [1, 3, 6, 10, 15, 21, 28, 36, 45, 55,\n",
    "      66, 78, 91, 105, 120, 136, 153, 171,\n",
    "      190, 210, 231]\n",
    "\n",
    "for i in triangular_numbers:\n",
    "    assert_true(isTriangular(i), str(i) + ' is triangular')\n",
    "\n",
    "not_triangular_numbers = [2, 4, 5, 7, 8, 9, 11, 12, 13, 14,\n",
    "      16, 17, 18, 19, 20,\n",
    "      22, 23, 24, 25, 26, 27,\n",
    "      29, 30, 31, 32, 33, 34, 35,\n",
    "      37, 40, 41, 42, 43, 44,\n",
    "      54, 56, 189, 191, 209, 211, 230, 232]\n",
    "\n",
    "for i in not_triangular_numbers:\n",
    "    assert_true(not(isTriangular(i)), str(i) + ' is not triangular')\n",
    "\n",
    "#test existence of docstring\n",
    "assert_true(len(isTriangular.__doc__) > 1, \"there is no docstring for isTriangular\")\n",
    "print(\"Success!\")"
   ]
  },
  {
   "cell_type": "code",
   "execution_count": 67,
   "metadata": {
    "deletable": false,
    "nbgrader": {
     "cell_type": "code",
     "checksum": "762634614c7891cf1f82bd0763d6573c",
     "grade": false,
     "grade_id": "isNarcissistic",
     "locked": false,
     "schema_version": 3,
     "solution": true,
     "task": false
    }
   },
   "outputs": [],
   "source": [
    "def countDigit(n) :\n",
    "    if (n == 0) :\n",
    "        return 0\n",
    " \n",
    "    return (1 + countDigit(n // 10))\n",
    "\n",
    "def isNarcissistic(x):\n",
    "    \"\"\"Returns whether or not a given number is Narcissistic.\n",
    "\n",
    "    A positive integer is called a narcissistic number if it\n",
    "    is equal to the sum of its own digits each raised to the\n",
    "    power of the number of digits.\n",
    "\n",
    "    Example: 153 is narcissistic because 1^3 + 5^3 + 3^3 = 1 + 125 + 27 = 153.\n",
    "    Note that by this definition all single digit numbers are narcissistic.\n",
    "    \"\"\"\n",
    "    \n",
    "    # your code here\n",
    "    l = countDigit(x)\n",
    "    dup = x; sm = 0\n",
    "    \n",
    "    while (dup) :\n",
    "        sm = sm + pow(dup % 10, l)\n",
    "        dup = dup // 10\n",
    "     \n",
    "    return (x == sm)"
   ]
  },
  {
   "cell_type": "code",
   "execution_count": 68,
   "metadata": {
    "deletable": false,
    "editable": false,
    "nbgrader": {
     "cell_type": "code",
     "checksum": "add7454f47921d173937c229eb2cb6b2",
     "grade": true,
     "grade_id": "test_isNarcissistic",
     "locked": true,
     "points": 1,
     "schema_version": 3,
     "solution": false,
     "task": false
    }
   },
   "outputs": [
    {
     "name": "stdout",
     "output_type": "stream",
     "text": [
      "Success!\n"
     ]
    }
   ],
   "source": [
    "narcissistic_numbers = [1, 2, 3, 4, 5, 6, 7, 8, 9, 153, 370, 371, 407]\n",
    "\n",
    "for i in narcissistic_numbers:\n",
    "    assert_true(isNarcissistic(i), str(i) + ' is narcissistic')\n",
    "\n",
    "non_narcissistic_numbers = [10, 11, 12, 13, 152, 154, 369, 372, 406]\n",
    "\n",
    "for i in non_narcissistic_numbers:\n",
    "    assert_true(not(isNarcissistic(i)), str(i) + ' is not narcissistic')\n",
    "\n",
    "#test existence of docstring\n",
    "assert_true(len(isNarcissistic.__doc__) > 1, \"there is no docstring for isNarcissistic\")\n",
    "print(\"Success!\")"
   ]
  },
  {
   "cell_type": "code",
   "execution_count": 69,
   "metadata": {
    "deletable": false,
    "editable": false,
    "nbgrader": {
     "cell_type": "code",
     "checksum": "7142bdb01c5fd0abd646ed14f0c283a3",
     "grade": true,
     "grade_id": "main",
     "locked": true,
     "points": 0,
     "schema_version": 3,
     "solution": false,
     "task": false
    }
   },
   "outputs": [
    {
     "name": "stdout",
     "output_type": "stream",
     "text": [
      "Give me a number from 1 to 10000.  Type -1 to exit. 567\n",
      "The factors of 567 are [1, 3, 7, 9, 21, 27, 63, 81, 189, 567]\n",
      "567 is composite\n",
      "Give me a number from 1 to 10000.  Type -1 to exit. 32\n",
      "The factors of 32 are [1, 2, 4, 8, 16, 32]\n",
      "32 is composite\n",
      "Give me a number from 1 to 10000.  Type -1 to exit. 1\n",
      "The factors of 1 are [1]\n",
      "1 is triangular\n",
      "1 is narcissistic\n",
      "Give me a number from 1 to 10000.  Type -1 to exit. -1\n"
     ]
    }
   ],
   "source": [
    "def main():\n",
    "\n",
    "    playing = True\n",
    "    while playing == True:\n",
    "\n",
    "        num_input = input('Give me a number from 1 to 10000.  Type -1 to exit. ')\n",
    "\n",
    "        try:\n",
    "            num = int(num_input)\n",
    "\n",
    "            if (num == -1):\n",
    "                playing = False\n",
    "                continue\n",
    "\n",
    "            if (num <= 0 or num > 10000):\n",
    "                continue\n",
    "\n",
    "            factors = getFactors(num)\n",
    "            print(\"The factors of\", num, \"are\", factors)\n",
    "\n",
    "            if isPrime(num):\n",
    "                print(str(num) + ' is prime')\n",
    "            if isComposite(num):\n",
    "                print(str(num) + ' is composite')\n",
    "            if isPerfect(num):\n",
    "                print(str(num) + ' is perfect')\n",
    "            if isAbundant(num):\n",
    "                print(str(num) + ' is abundant')\n",
    "            if isTriangular(num):\n",
    "                print(str(num) + ' is triangular')\n",
    "            if isNarcissistic(num):\n",
    "                print(str(num) + ' is narcissistic')\n",
    "\n",
    "        except ValueError:\n",
    "            print('Sorry, the input is not an int.  Please try again.')\n",
    "            \n",
    "#This will automatically run the main function in your program\n",
    "#Don't change this\n",
    "if __name__ == '__main__':\n",
    "    main()"
   ]
  },
  {
   "cell_type": "code",
   "execution_count": null,
   "metadata": {},
   "outputs": [],
   "source": []
  }
 ],
 "metadata": {
  "kernelspec": {
   "display_name": "Python 3",
   "language": "python",
   "name": "python3"
  },
  "language_info": {
   "codemirror_mode": {
    "name": "ipython",
    "version": 3
   },
   "file_extension": ".py",
   "mimetype": "text/x-python",
   "name": "python",
   "nbconvert_exporter": "python",
   "pygments_lexer": "ipython3",
   "version": "3.7.6"
  }
 },
 "nbformat": 4,
 "nbformat_minor": 2
}
